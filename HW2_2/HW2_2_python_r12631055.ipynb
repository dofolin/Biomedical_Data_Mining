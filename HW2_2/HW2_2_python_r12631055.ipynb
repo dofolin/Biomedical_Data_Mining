{
 "cells": [
  {
   "cell_type": "markdown",
   "metadata": {},
   "source": [
    "Import package"
   ]
  },
  {
   "cell_type": "code",
   "execution_count": 348,
   "metadata": {},
   "outputs": [],
   "source": [
    "import io\n",
    "import os\n",
    "import numpy as np\n",
    "import pandas as pd\n",
    "import time\n",
    "import matplotlib.pyplot as plt"
   ]
  },
  {
   "cell_type": "markdown",
   "metadata": {},
   "source": [
    "Loading data"
   ]
  },
  {
   "cell_type": "code",
   "execution_count": 349,
   "metadata": {},
   "outputs": [],
   "source": [
    "def read_vcf(path):\n",
    "    with open(path, 'r') as f:\n",
    "        lines = [l for l in f if not l.startswith('##')]\n",
    "    return pd.read_csv(\n",
    "        io.StringIO(''.join(lines)),\n",
    "        dtype={'#CHROM': str, 'POS': int, 'ID': str, 'REF': str, 'ALT': str,\n",
    "               'QUAL': str, 'FILTER': str, 'INFO': str},\n",
    "        sep='\\t'\n",
    "    ).rename(columns={'#CHROM': 'CHROM'})"
   ]
  },
  {
   "cell_type": "markdown",
   "metadata": {},
   "source": [
    "Read"
   ]
  },
  {
   "cell_type": "code",
   "execution_count": 350,
   "metadata": {},
   "outputs": [
    {
     "data": {
      "text/plain": [
       "0        ALLELEID=1003021;CLNDISDB=MedGen:CN517202;CLND...\n",
       "1        ALLELEID=1632777;CLNDISDB=MedGen:CN517202;CLND...\n",
       "2        ALLELEID=1600580;CLNDISDB=MedGen:CN517202;CLND...\n",
       "3        ALLELEID=1396033;CLNDISDB=MedGen:CN517202;CLND...\n",
       "4        ALLELEID=1570515;CLNDISDB=MedGen:CN517202;CLND...\n",
       "                               ...                        \n",
       "99967    AF_EXAC=0.00002;ALLELEID=1002493;CLNDISDB=MOND...\n",
       "99968    ALLELEID=57519;CLNDISDB=MONDO:MONDO:0010169,Me...\n",
       "99969    ALLELEID=1572196;CLNDISDB=MedGen:CN517202;CLND...\n",
       "99970    ALLELEID=1467255;CLNDISDB=MedGen:CN517202;CLND...\n",
       "99971    ALLELEID=1296249;CLNDISDB=MedGen:CN517202;CLND...\n",
       "Name: INFO, Length: 99972, dtype: object"
      ]
     },
     "execution_count": 350,
     "metadata": {},
     "output_type": "execute_result"
    }
   ],
   "source": [
    "vcfdata = read_vcf('HW2_2_python_clinvar.vcf')\n",
    "vcfdata['INFO']"
   ]
  },
  {
   "cell_type": "markdown",
   "metadata": {},
   "source": [
    "Problem1 CLNSIG Extract"
   ]
  },
  {
   "cell_type": "code",
   "execution_count": 351,
   "metadata": {},
   "outputs": [],
   "source": [
    "temp0 = vcfdata['INFO'].str.extract('(CLNSIG=.+;)')\n",
    "temp1 = temp0[0].str.split(';',expand=True)\n",
    "temp2 = temp1[0].str.split('|',expand=True)\n"
   ]
  },
  {
   "cell_type": "markdown",
   "metadata": {},
   "source": [
    "Problem1 Groupby"
   ]
  },
  {
   "cell_type": "code",
   "execution_count": 352,
   "metadata": {},
   "outputs": [
    {
     "name": "stdout",
     "output_type": "stream",
     "text": [
      "0\n",
      "CLNSIG=Affects                                            17\n",
      "CLNSIG=Benign                                          13977\n",
      "CLNSIG=Benign/Likely_benign                             2001\n",
      "CLNSIG=Conflicting_interpretations_of_pathogenicity     4179\n",
      "CLNSIG=Likely_benign                                   28732\n",
      "CLNSIG=Likely_pathogenic                                3625\n",
      "CLNSIG=Pathogenic                                       6498\n",
      "CLNSIG=Pathogenic/Likely_pathogenic                     1058\n",
      "CLNSIG=Uncertain_significance                          39128\n",
      "CLNSIG=association                                        58\n",
      "CLNSIG=drug_response                                      31\n",
      "CLNSIG=not_provided                                      565\n",
      "CLNSIG=other                                               5\n",
      "CLNSIG=protective                                          2\n",
      "CLNSIG=risk_factor                                        44\n",
      "dtype: int64\n",
      "1\n",
      "_association     2\n",
      "_other          11\n",
      "_risk_factor    12\n",
      "dtype: int64\n",
      "2\n",
      "_protective    1\n",
      "dtype: int64\n"
     ]
    }
   ],
   "source": [
    "print(temp2.groupby([0]).size())\n",
    "print(temp2.groupby([1]).size())\n",
    "print(temp2.groupby([2]).size())"
   ]
  },
  {
   "cell_type": "markdown",
   "metadata": {},
   "source": [
    "Problem1 Count"
   ]
  },
  {
   "cell_type": "code",
   "execution_count": 353,
   "metadata": {},
   "outputs": [
    {
     "data": {
      "text/plain": [
       "risk_factor                                        56\n",
       "protective                                          3\n",
       "other                                              16\n",
       "not_provided                                      565\n",
       "drug_response                                      31\n",
       "association                                        60\n",
       "Uncertain_significance                          39128\n",
       "Pathogenic/Likely_pathogenic                     1058\n",
       "Pathogenic                                       6498\n",
       "Likely_pathogenic                                3625\n",
       "Likely_benign                                   28732\n",
       "Conflicting_interpretations_of_pathogenicity     4179\n",
       "Benign/Likely_benign                             2001\n",
       "Benign                                          13977\n",
       "Affects                                            17\n",
       "dtype: int64"
      ]
     },
     "execution_count": 353,
     "metadata": {},
     "output_type": "execute_result"
    }
   ],
   "source": [
    "temp2_0 = temp2[0].str.strip('CLNSIG')\n",
    "temp2_0 = temp2_0.str.strip('=')\n",
    "temp2_1 = temp2[1].dropna()\n",
    "temp2_1 = temp2_1.str.strip('_')\n",
    "temp2_2 = temp2[2].dropna()\n",
    "temp2_2 = temp2_2.str.strip('_')\n",
    "temp3 = pd.concat([temp2_0,temp2_1,temp2_2])\n",
    "counttemp = temp3.value_counts()\n",
    "counttemp = counttemp.sort_index(ascending=0)\n",
    "counttemp\n"
   ]
  },
  {
   "cell_type": "markdown",
   "metadata": {},
   "source": [
    "Problem1 Plot"
   ]
  },
  {
   "cell_type": "code",
   "execution_count": 354,
   "metadata": {},
   "outputs": [
    {
     "data": {
      "image/png": "[encoded data removed]",
      "text/plain": [
       "<Figure size 640x480 with 1 Axes>"
      ]
     },
     "metadata": {},
     "output_type": "display_data"
    }
   ],
   "source": [
    "ax = counttemp.plot.barh()\n",
    "for container in ax.containers:\n",
    "    ax.bar_label(container)\n",
    "plt.show()"
   ]
  },
  {
   "cell_type": "markdown",
   "metadata": {},
   "source": [
    "Problem2 RS Extract"
   ]
  },
  {
   "cell_type": "code",
   "execution_count": 355,
   "metadata": {},
   "outputs": [
    {
     "data": {
      "text/plain": [
       "0        1640863258\n",
       "1                 .\n",
       "2                 .\n",
       "3                 .\n",
       "4                 .\n",
       "            ...    \n",
       "99967     567356824\n",
       "99968     111033418\n",
       "99969             .\n",
       "99970             .\n",
       "99971             .\n",
       "Name: 0, Length: 99972, dtype: object"
      ]
     },
     "execution_count": 355,
     "metadata": {},
     "output_type": "execute_result"
    }
   ],
   "source": [
    "RS =  vcfdata['INFO'].str.extract('(RS=.+)')\n",
    "RStrip = RS[0].str.strip('RS=')\n",
    "RStrip = RStrip.fillna('.')\n",
    "RStrip"
   ]
  },
  {
   "cell_type": "markdown",
   "metadata": {},
   "source": [
    "Problem2 Merge"
   ]
  },
  {
   "cell_type": "code",
   "execution_count": 356,
   "metadata": {},
   "outputs": [
    {
     "data": {
      "text/html": [
       "<div>\n",
       "<style scoped>\n",
       "    .dataframe tbody tr th:only-of-type {\n",
       "        vertical-align: middle;\n",
       "    }\n",
       "\n",
       "    .dataframe tbody tr th {\n",
       "        vertical-align: top;\n",
       "    }\n",
       "\n",
       "    .dataframe thead th {\n",
       "        text-align: right;\n",
       "    }\n",
       "</style>\n",
       "<table border=\"1\" class=\"dataframe\">\n",
       "  <thead>\n",
       "    <tr style=\"text-align: right;\">\n",
       "      <th></th>\n",
       "      <th>CHROM</th>\n",
       "      <th>POS</th>\n",
       "      <th>ID</th>\n",
       "      <th>REF</th>\n",
       "      <th>ALT</th>\n",
       "      <th>RS</th>\n",
       "    </tr>\n",
       "  </thead>\n",
       "  <tbody>\n",
       "    <tr>\n",
       "      <th>0</th>\n",
       "      <td>1</td>\n",
       "      <td>861332</td>\n",
       "      <td>1019397</td>\n",
       "      <td>G</td>\n",
       "      <td>A</td>\n",
       "      <td>1640863258</td>\n",
       "    </tr>\n",
       "    <tr>\n",
       "      <th>1</th>\n",
       "      <td>1</td>\n",
       "      <td>861336</td>\n",
       "      <td>1543320</td>\n",
       "      <td>C</td>\n",
       "      <td>T</td>\n",
       "      <td>.</td>\n",
       "    </tr>\n",
       "    <tr>\n",
       "      <th>2</th>\n",
       "      <td>1</td>\n",
       "      <td>861349</td>\n",
       "      <td>1648427</td>\n",
       "      <td>C</td>\n",
       "      <td>T</td>\n",
       "      <td>.</td>\n",
       "    </tr>\n",
       "    <tr>\n",
       "      <th>3</th>\n",
       "      <td>1</td>\n",
       "      <td>861356</td>\n",
       "      <td>1362713</td>\n",
       "      <td>T</td>\n",
       "      <td>C</td>\n",
       "      <td>.</td>\n",
       "    </tr>\n",
       "    <tr>\n",
       "      <th>4</th>\n",
       "      <td>1</td>\n",
       "      <td>861366</td>\n",
       "      <td>1568423</td>\n",
       "      <td>C</td>\n",
       "      <td>T</td>\n",
       "      <td>.</td>\n",
       "    </tr>\n",
       "    <tr>\n",
       "      <th>...</th>\n",
       "      <td>...</td>\n",
       "      <td>...</td>\n",
       "      <td>...</td>\n",
       "      <td>...</td>\n",
       "      <td>...</td>\n",
       "      <td>...</td>\n",
       "    </tr>\n",
       "    <tr>\n",
       "      <th>99967</th>\n",
       "      <td>1</td>\n",
       "      <td>215953361</td>\n",
       "      <td>1020626</td>\n",
       "      <td>C</td>\n",
       "      <td>G</td>\n",
       "      <td>567356824</td>\n",
       "    </tr>\n",
       "    <tr>\n",
       "      <th>99968</th>\n",
       "      <td>1</td>\n",
       "      <td>215953365</td>\n",
       "      <td>48357</td>\n",
       "      <td>G</td>\n",
       "      <td>A</td>\n",
       "      <td>111033418</td>\n",
       "    </tr>\n",
       "    <tr>\n",
       "      <th>99969</th>\n",
       "      <td>1</td>\n",
       "      <td>215953366</td>\n",
       "      <td>1571402</td>\n",
       "      <td>G</td>\n",
       "      <td>T</td>\n",
       "      <td>.</td>\n",
       "    </tr>\n",
       "    <tr>\n",
       "      <th>99970</th>\n",
       "      <td>1</td>\n",
       "      <td>215953368</td>\n",
       "      <td>1403889</td>\n",
       "      <td>T</td>\n",
       "      <td>A</td>\n",
       "      <td>.</td>\n",
       "    </tr>\n",
       "    <tr>\n",
       "      <th>99971</th>\n",
       "      <td>1</td>\n",
       "      <td>215953370</td>\n",
       "      <td>1306306</td>\n",
       "      <td>G</td>\n",
       "      <td>A</td>\n",
       "      <td>.</td>\n",
       "    </tr>\n",
       "  </tbody>\n",
       "</table>\n",
       "<p>99972 rows × 6 columns</p>\n",
       "</div>"
      ],
      "text/plain": [
       "      CHROM        POS       ID REF ALT          RS\n",
       "0         1     861332  1019397   G   A  1640863258\n",
       "1         1     861336  1543320   C   T           .\n",
       "2         1     861349  1648427   C   T           .\n",
       "3         1     861356  1362713   T   C           .\n",
       "4         1     861366  1568423   C   T           .\n",
       "...     ...        ...      ...  ..  ..         ...\n",
       "99967     1  215953361  1020626   C   G   567356824\n",
       "99968     1  215953365    48357   G   A   111033418\n",
       "99969     1  215953366  1571402   G   T           .\n",
       "99970     1  215953368  1403889   T   A           .\n",
       "99971     1  215953370  1306306   G   A           .\n",
       "\n",
       "[99972 rows x 6 columns]"
      ]
     },
     "execution_count": 356,
     "metadata": {},
     "output_type": "execute_result"
    }
   ],
   "source": [
    "vcfRS = vcfdata[['CHROM','POS','ID','REF','ALT']]\n",
    "vcfRS.insert(5, column='RS', value=RStrip)\n",
    "vcfRS"
   ]
  },
  {
   "cell_type": "markdown",
   "metadata": {},
   "source": [
    "Problem2 Output"
   ]
  },
  {
   "cell_type": "code",
   "execution_count": 359,
   "metadata": {},
   "outputs": [],
   "source": [
    "vcfRS.to_csv('HW2_2_python_r12631055.txt', sep='\\t', index=False)"
   ]
  }
 ],
 "metadata": {
  "kernelspec": {
   "display_name": "base",
   "language": "python",
   "name": "python3"
  },
  "language_info": {
   "codemirror_mode": {
    "name": "ipython",
    "version": 3
   },
   "file_extension": ".py",
   "mimetype": "text/x-python",
   "name": "python",
   "nbconvert_exporter": "python",
   "pygments_lexer": "ipython3",
   "version": "3.11.3"
  },
  "orig_nbformat": 4
 },
 "nbformat": 4,
 "nbformat_minor": 2
}
