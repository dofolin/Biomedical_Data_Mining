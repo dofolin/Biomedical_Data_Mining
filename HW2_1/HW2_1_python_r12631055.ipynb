{
 "cells": [
  {
   "cell_type": "markdown",
   "metadata": {},
   "source": [
    "Loadind data"
   ]
  },
  {
   "cell_type": "code",
   "execution_count": 1,
   "metadata": {},
   "outputs": [
    {
     "name": "stdout",
     "output_type": "stream",
     "text": [
      "acgtacgtttttagccttatacgttactacgttacgcggatacgtcatccggcattacgattgccagacgtaaagcttccgtacggcatcaggcatttcgaatcgatcagctagcacc\n",
      "catgccacatgccctagccatgcatgccgcatccccatcagcatgcccgctatccggacttcttacggcctattacggactgcacgtacgtacgttgactcagctcgtacgcggaggt\n"
     ]
    }
   ],
   "source": [
    "with open('HW2_1.txt') as hw:\n",
    "    tmp = hw.read()\n",
    "    tmplist = tmp.split('\\n')\n",
    "str1 = tmplist[0]\n",
    "str2 = tmplist[1]\n",
    "print(str1, str2, sep = '\\n')"
   ]
  },
  {
   "cell_type": "markdown",
   "metadata": {},
   "source": [
    "Reverse str2"
   ]
  },
  {
   "cell_type": "code",
   "execution_count": 2,
   "metadata": {},
   "outputs": [],
   "source": [
    "def rev_seq(s):\n",
    "    temp_list = list(s)\n",
    "    temp_list.reverse()\n",
    "    return ''.join(temp_list)"
   ]
  },
  {
   "cell_type": "code",
   "execution_count": 3,
   "metadata": {},
   "outputs": [
    {
     "name": "stdout",
     "output_type": "stream",
     "text": [
      "tggaggcgcatgctcgactcagttgcatgcatgcacgtcaggcattatccggcattcttcaggcctatcgcccgtacgactacccctacgccgtacgtaccgatcccgtacaccgtac\n"
     ]
    }
   ],
   "source": [
    "str2_r = rev_seq(str2)\n",
    "print(str2_r)"
   ]
  },
  {
   "cell_type": "markdown",
   "metadata": {},
   "source": [
    "Longest common substring"
   ]
  },
  {
   "cell_type": "code",
   "execution_count": 4,
   "metadata": {},
   "outputs": [],
   "source": [
    "def countsub(X, Y):\n",
    "\n",
    "    LCSuff = [[0 for k in range(len(X)+1)] for l in range(len(Y)+1)]\n",
    "    result = 0\n",
    "\n",
    "    LCSstr = ''\n",
    " \n",
    "    for i in range(len(X) + 1):\n",
    "        for j in range(len(Y) + 1):\n",
    "            if (i == 0 or j == 0):\n",
    "                LCSuff[i][j] = 0\n",
    "            elif (X[i-1] == Y[j-1]):\n",
    "                LCSuff[i][j] = LCSuff[i-1][j-1] + 1\n",
    "                if (LCSuff[i][j] > result):\n",
    "                    result = LCSuff[i][j]\n",
    "                    LCSstr = X[i-result:i]\n",
    "            else:\n",
    "                LCSuff[i][j] = 0\n",
    "    return print('Maxlength:',  result, 'Substring:', LCSstr, sep = '\\n')"
   ]
  },
  {
   "cell_type": "markdown",
   "metadata": {},
   "source": [
    "Output data"
   ]
  },
  {
   "cell_type": "code",
   "execution_count": 14,
   "metadata": {},
   "outputs": [
    {
     "name": "stdout",
     "output_type": "stream",
     "text": [
      "Maxlength:\n",
      "10\n",
      "Substring:\n",
      "atccggcatt\n"
     ]
    }
   ],
   "source": [
    "countsub(str1, str2_r)"
   ]
  },
  {
   "cell_type": "code",
   "execution_count": 21,
   "metadata": {},
   "outputs": [],
   "source": [
    "with open('HW2_1_python_r12631055.txt','w') as f:\n",
    "        f.write('Maxlength:\\n''10\\n''Substring:\\n''atccggcatt')"
   ]
  }
 ],
 "metadata": {
  "kernelspec": {
   "display_name": "base",
   "language": "python",
   "name": "python3"
  },
  "language_info": {
   "codemirror_mode": {
    "name": "ipython",
    "version": 3
   },
   "file_extension": ".py",
   "mimetype": "text/x-python",
   "name": "python",
   "nbconvert_exporter": "python",
   "pygments_lexer": "ipython3",
   "version": "3.11.3"
  },
  "orig_nbformat": 4
 },
 "nbformat": 4,
 "nbformat_minor": 2
}
