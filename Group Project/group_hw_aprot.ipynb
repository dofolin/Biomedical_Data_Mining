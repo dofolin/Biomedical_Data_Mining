{
 "cells": [
  {
   "cell_type": "markdown",
   "metadata": {},
   "source": [
    "Import Package"
   ]
  },
  {
   "cell_type": "code",
   "execution_count": 1,
   "metadata": {},
   "outputs": [],
   "source": [
    "import io\n",
    "import re\n",
    "import os\n",
    "import numpy as np\n",
    "import pandas as pd"
   ]
  },
  {
   "cell_type": "markdown",
   "metadata": {},
   "source": [
    "Load Data"
   ]
  },
  {
   "cell_type": "code",
   "execution_count": 2,
   "metadata": {},
   "outputs": [
    {
     "data": {
      "text/html": [
       "<div>\n",
       "<style scoped>\n",
       "    .dataframe tbody tr th:only-of-type {\n",
       "        vertical-align: middle;\n",
       "    }\n",
       "\n",
       "    .dataframe tbody tr th {\n",
       "        vertical-align: top;\n",
       "    }\n",
       "\n",
       "    .dataframe thead th {\n",
       "        text-align: right;\n",
       "    }\n",
       "</style>\n",
       "<table border=\"1\" class=\"dataframe\">\n",
       "  <thead>\n",
       "    <tr style=\"text-align: right;\">\n",
       "      <th></th>\n",
       "      <th>prot</th>\n",
       "      <th>amino</th>\n",
       "    </tr>\n",
       "  </thead>\n",
       "  <tbody>\n",
       "    <tr>\n",
       "      <th>0</th>\n",
       "      <td>A*01:01:01:01</td>\n",
       "      <td>MAVMAPRTLLLLLSGALAL..TQTWAGSHSMRYFFTSVSRPGRGEP...</td>\n",
       "    </tr>\n",
       "    <tr>\n",
       "      <th>1</th>\n",
       "      <td>A*01:01:01:02N</td>\n",
       "      <td>-------------------..-------------------------...</td>\n",
       "    </tr>\n",
       "    <tr>\n",
       "      <th>2</th>\n",
       "      <td>A*01:01:01:03</td>\n",
       "      <td>-------------------..-------------------------...</td>\n",
       "    </tr>\n",
       "    <tr>\n",
       "      <th>3</th>\n",
       "      <td>A*01:01:01:04</td>\n",
       "      <td>-------------------..-------------------------...</td>\n",
       "    </tr>\n",
       "    <tr>\n",
       "      <th>4</th>\n",
       "      <td>A*01:01:01:05</td>\n",
       "      <td>-------------------..-------------------------...</td>\n",
       "    </tr>\n",
       "    <tr>\n",
       "      <th>...</th>\n",
       "      <td>...</td>\n",
       "      <td>...</td>\n",
       "    </tr>\n",
       "    <tr>\n",
       "      <th>31568</th>\n",
       "      <td>A*80:06</td>\n",
       "      <td>----K-K------------E-------P------------------...</td>\n",
       "    </tr>\n",
       "    <tr>\n",
       "      <th>31569</th>\n",
       "      <td>A*80:07</td>\n",
       "      <td>----K-K------------E-------P------------------...</td>\n",
       "    </tr>\n",
       "    <tr>\n",
       "      <th>31570</th>\n",
       "      <td>A*80:08N</td>\n",
       "      <td></td>\n",
       "    </tr>\n",
       "    <tr>\n",
       "      <th>31571</th>\n",
       "      <td>A*80:09N</td>\n",
       "      <td></td>\n",
       "    </tr>\n",
       "    <tr>\n",
       "      <th>31572</th>\n",
       "      <td>A*03:437Q</td>\n",
       "      <td>LDSCLVWDX</td>\n",
       "    </tr>\n",
       "  </tbody>\n",
       "</table>\n",
       "<p>31573 rows × 2 columns</p>\n",
       "</div>"
      ],
      "text/plain": [
       "                 prot                                              amino\n",
       "0       A*01:01:01:01  MAVMAPRTLLLLLSGALAL..TQTWAGSHSMRYFFTSVSRPGRGEP...\n",
       "1      A*01:01:01:02N  -------------------..-------------------------...\n",
       "2       A*01:01:01:03  -------------------..-------------------------...\n",
       "3       A*01:01:01:04  -------------------..-------------------------...\n",
       "4       A*01:01:01:05  -------------------..-------------------------...\n",
       "...               ...                                                ...\n",
       "31568         A*80:06  ----K-K------------E-------P------------------...\n",
       "31569         A*80:07  ----K-K------------E-------P------------------...\n",
       "31570        A*80:08N                                                   \n",
       "31571        A*80:09N                                                   \n",
       "31572       A*03:437Q                                          LDSCLVWDX\n",
       "\n",
       "[31573 rows x 2 columns]"
      ]
     },
     "execution_count": 2,
     "metadata": {},
     "output_type": "execute_result"
    }
   ],
   "source": [
    "with open('A_prot.txt', 'r') as txt:\n",
    "    lines = [l for l in txt if l.startswith(' A')] #read by lines and start with ' A'\n",
    "predata = pd.read_csv(io.StringIO(''.join(lines)), names=['prot', 'amino'], sep='\\  +', engine='python') #rejoin lines and seperate stiring by '  '\n",
    "predata.replace(' ', '', regex=True, inplace=True) #remove spaces from string\n",
    "predata.fillna('', inplace=True) #replace nan with ''\n",
    "predata"
   ]
  },
  {
   "cell_type": "markdown",
   "metadata": {},
   "source": [
    "Groupby"
   ]
  },
  {
   "cell_type": "code",
   "execution_count": 74,
   "metadata": {},
   "outputs": [
    {
     "name": "stdout",
     "output_type": "stream",
     "text": [
      "prot\n",
      "A*01:01:01:01     4\n",
      "A*01:01:01:02N    4\n",
      "A*01:01:01:03     4\n",
      "A*01:01:01:04     4\n",
      "A*01:01:01:05     4\n",
      "                 ..\n",
      "A*80:05           4\n",
      "A*80:06           4\n",
      "A*80:07           4\n",
      "A*80:08N          4\n",
      "A*80:09N          4\n",
      "Length: 7893, dtype: int64\n"
     ]
    }
   ],
   "source": [
    "predatagb = predata.groupby('prot')\n",
    "predatagb.size()"
   ]
  },
  {
   "cell_type": "code",
   "execution_count": 34,
   "metadata": {},
   "outputs": [
    {
     "data": {
      "text/html": [
       "<div>\n",
       "<style scoped>\n",
       "    .dataframe tbody tr th:only-of-type {\n",
       "        vertical-align: middle;\n",
       "    }\n",
       "\n",
       "    .dataframe tbody tr th {\n",
       "        vertical-align: top;\n",
       "    }\n",
       "\n",
       "    .dataframe thead th {\n",
       "        text-align: right;\n",
       "    }\n",
       "</style>\n",
       "<table border=\"1\" class=\"dataframe\">\n",
       "  <thead>\n",
       "    <tr style=\"text-align: right;\">\n",
       "      <th></th>\n",
       "      <th>prot</th>\n",
       "      <th>amino</th>\n",
       "    </tr>\n",
       "  </thead>\n",
       "  <tbody>\n",
       "    <tr>\n",
       "      <th>3211</th>\n",
       "      <td>A*03:437Q</td>\n",
       "      <td>-------------------..-------------------------...</td>\n",
       "    </tr>\n",
       "    <tr>\n",
       "      <th>11104</th>\n",
       "      <td>A*03:437Q</td>\n",
       "      <td>-Q-----VD------------A--------------S--------....</td>\n",
       "    </tr>\n",
       "    <tr>\n",
       "      <th>18997</th>\n",
       "      <td>A*03:437Q</td>\n",
       "      <td>..-L-A--D-T--EW-------...---------------------...</td>\n",
       "    </tr>\n",
       "    <tr>\n",
       "      <th>26890</th>\n",
       "      <td>A*03:437Q</td>\n",
       "      <td>----------------------------------------------...</td>\n",
       "    </tr>\n",
       "    <tr>\n",
       "      <th>31572</th>\n",
       "      <td>A*03:437Q</td>\n",
       "      <td>LDSCLVWDX</td>\n",
       "    </tr>\n",
       "  </tbody>\n",
       "</table>\n",
       "</div>"
      ],
      "text/plain": [
       "            prot                                              amino\n",
       "3211   A*03:437Q  -------------------..-------------------------...\n",
       "11104  A*03:437Q  -Q-----VD------------A--------------S--------....\n",
       "18997  A*03:437Q  ..-L-A--D-T--EW-------...---------------------...\n",
       "26890  A*03:437Q  ----------------------------------------------...\n",
       "31572  A*03:437Q                                          LDSCLVWDX"
      ]
     },
     "execution_count": 34,
     "metadata": {},
     "output_type": "execute_result"
    }
   ],
   "source": [
    "predatagb.get_group('A*03:437Q')"
   ]
  },
  {
   "cell_type": "markdown",
   "metadata": {},
   "source": [
    "Filter"
   ]
  },
  {
   "cell_type": "code",
   "execution_count": 107,
   "metadata": {},
   "outputs": [
    {
     "data": {
      "text/html": [
       "<div>\n",
       "<style scoped>\n",
       "    .dataframe tbody tr th:only-of-type {\n",
       "        vertical-align: middle;\n",
       "    }\n",
       "\n",
       "    .dataframe tbody tr th {\n",
       "        vertical-align: top;\n",
       "    }\n",
       "\n",
       "    .dataframe thead th {\n",
       "        text-align: right;\n",
       "    }\n",
       "</style>\n",
       "<table border=\"1\" class=\"dataframe\">\n",
       "  <thead>\n",
       "    <tr style=\"text-align: right;\">\n",
       "      <th></th>\n",
       "      <th>prot</th>\n",
       "      <th>amino</th>\n",
       "    </tr>\n",
       "  </thead>\n",
       "  <tbody>\n",
       "    <tr>\n",
       "      <th>0</th>\n",
       "      <td>A*01:01:01:01</td>\n",
       "      <td>MAVMAPRTLLLLLSGALAL..TQTWAGSHSMRYFFTSVSRPGRGEP...</td>\n",
       "    </tr>\n",
       "    <tr>\n",
       "      <th>7893</th>\n",
       "      <td>A*01:01:01:01</td>\n",
       "      <td>AHSQTDRANLGTLRGYYNQSEDGSHTIQIMYGCDVGPDGRFLRGY....</td>\n",
       "    </tr>\n",
       "    <tr>\n",
       "      <th>15786</th>\n",
       "      <td>A*01:01:01:01</td>\n",
       "      <td>..QRRVYLEGRCVDGLRRYLEN...GKETLQRTDPPKTHMTHHPIS...</td>\n",
       "    </tr>\n",
       "    <tr>\n",
       "      <th>23679</th>\n",
       "      <td>A*01:01:01:01</td>\n",
       "      <td>VPSGEEQRYTCHVQHEGLPKPLTLRWELSSQPTIPIVGIIAGLVLL...</td>\n",
       "    </tr>\n",
       "  </tbody>\n",
       "</table>\n",
       "</div>"
      ],
      "text/plain": [
       "                prot                                              amino\n",
       "0      A*01:01:01:01  MAVMAPRTLLLLLSGALAL..TQTWAGSHSMRYFFTSVSRPGRGEP...\n",
       "7893   A*01:01:01:01  AHSQTDRANLGTLRGYYNQSEDGSHTIQIMYGCDVGPDGRFLRGY....\n",
       "15786  A*01:01:01:01  ..QRRVYLEGRCVDGLRRYLEN...GKETLQRTDPPKTHMTHHPIS...\n",
       "23679  A*01:01:01:01  VPSGEEQRYTCHVQHEGLPKPLTLRWELSSQPTIPIVGIIAGLVLL..."
      ]
     },
     "execution_count": 107,
     "metadata": {},
     "output_type": "execute_result"
    }
   ],
   "source": [
    "filter = (predata['prot'] == 'A*01:01:01:01')\n",
    "predata[filter]"
   ]
  },
  {
   "cell_type": "code",
   "execution_count": 73,
   "metadata": {},
   "outputs": [
    {
     "data": {
      "text/html": [
       "<div>\n",
       "<style scoped>\n",
       "    .dataframe tbody tr th:only-of-type {\n",
       "        vertical-align: middle;\n",
       "    }\n",
       "\n",
       "    .dataframe tbody tr th {\n",
       "        vertical-align: top;\n",
       "    }\n",
       "\n",
       "    .dataframe thead th {\n",
       "        text-align: right;\n",
       "    }\n",
       "</style>\n",
       "<table border=\"1\" class=\"dataframe\">\n",
       "  <thead>\n",
       "    <tr style=\"text-align: right;\">\n",
       "      <th></th>\n",
       "      <th>prot</th>\n",
       "      <th>amino</th>\n",
       "    </tr>\n",
       "  </thead>\n",
       "  <tbody>\n",
       "    <tr>\n",
       "      <th>3211</th>\n",
       "      <td>A*03:437Q</td>\n",
       "      <td>-------------------..-------------------------...</td>\n",
       "    </tr>\n",
       "    <tr>\n",
       "      <th>11104</th>\n",
       "      <td>A*03:437Q</td>\n",
       "      <td>-Q-----VD------------A--------------S--------....</td>\n",
       "    </tr>\n",
       "    <tr>\n",
       "      <th>18997</th>\n",
       "      <td>A*03:437Q</td>\n",
       "      <td>..-L-A--D-T--EW-------...---------------------...</td>\n",
       "    </tr>\n",
       "    <tr>\n",
       "      <th>26890</th>\n",
       "      <td>A*03:437Q</td>\n",
       "      <td>----------------------------------------------...</td>\n",
       "    </tr>\n",
       "    <tr>\n",
       "      <th>31572</th>\n",
       "      <td>A*03:437Q</td>\n",
       "      <td>LDSCLVWDX</td>\n",
       "    </tr>\n",
       "  </tbody>\n",
       "</table>\n",
       "</div>"
      ],
      "text/plain": [
       "            prot                                              amino\n",
       "3211   A*03:437Q  -------------------..-------------------------...\n",
       "11104  A*03:437Q  -Q-----VD------------A--------------S--------....\n",
       "18997  A*03:437Q  ..-L-A--D-T--EW-------...---------------------...\n",
       "26890  A*03:437Q  ----------------------------------------------...\n",
       "31572  A*03:437Q                                          LDSCLVWDX"
      ]
     },
     "execution_count": 73,
     "metadata": {},
     "output_type": "execute_result"
    }
   ],
   "source": [
    "filter = (predata['prot'] == 'A*03:437Q')\n",
    "predata[filter]"
   ]
  },
  {
   "cell_type": "markdown",
   "metadata": {},
   "source": [
    "Merge: groupby.agg or pivot_table"
   ]
  },
  {
   "cell_type": "code",
   "execution_count": 110,
   "metadata": {},
   "outputs": [
    {
     "name": "stdout",
     "output_type": "stream",
     "text": [
      "                prot                                              amino\n",
      "0      A*01:01:01:01  MAVMAPRTLLLLLSGALAL..TQTWAGSHSMRYFFTSVSRPGRGEP...\n",
      "1     A*01:01:01:02N  -------------------..-------------------------...\n",
      "2      A*01:01:01:03  -------------------..-------------------------...\n",
      "3      A*01:01:01:04  -------------------..-------------------------...\n",
      "4      A*01:01:01:05  -------------------..-------------------------...\n",
      "...              ...                                                ...\n",
      "7888         A*80:05  ----P--------------..-------------------------...\n",
      "7889         A*80:06  ----P--------------..-------------------------...\n",
      "7890         A*80:07  ----P--------------..-------------------------...\n",
      "7891        A*80:08N  ----P--------------..-------------------------...\n",
      "7892        A*80:09N  *******************..******-------------------...\n",
      "\n",
      "[7893 rows x 2 columns]\n",
      "           prot                                              amino\n",
      "3211  A*03:437Q  -------------------..-------------------------...\n"
     ]
    }
   ],
   "source": [
    "df = predata.groupby('prot', sort=False).aggregate(lambda x:''.join(x)).reset_index()\n",
    "#df = predata.pivot_table(index='prot', values='amino', aggfunc=(lambda x:''.join(x)),sort=False).reset_index()\n",
    "print(df)\n",
    "\n",
    "filter = (df['prot'] == 'A*03:437Q')\n",
    "print(df[filter])"
   ]
  },
  {
   "cell_type": "markdown",
   "metadata": {},
   "source": [
    "<em>Other merge method:join() line by line</em>"
   ]
  },
  {
   "cell_type": "code",
   "execution_count": 31,
   "metadata": {},
   "outputs": [],
   "source": [
    "#df = pd.DataFrame(columns=['prot', 'amino']) \n",
    "#df['prot'] = predata['prot'][0:7893]\n",
    "\n",
    "##rejoin strings in 'amino' which hava same 'prot'\n",
    "#for n in range(7893):\n",
    "#    filter = (predata['prot'] == predata['prot'][n])\n",
    "#    df['amino'][n] = ''.join([i for i in predata[filter]['amino']]) "
   ]
  },
  {
   "cell_type": "markdown",
   "metadata": {},
   "source": [
    "<em>Other merge method 2:dataframe.str.cat() column by column</em>"
   ]
  },
  {
   "cell_type": "code",
   "execution_count": 47,
   "metadata": {},
   "outputs": [],
   "source": [
    "#filter = (predata['prot'] == 'A*01:01:01:01')\n",
    "#index_filter = predata.index[filter].tolist()\n",
    "#filter = (predata['prot'] == 'A*01:01:01:01')\n",
    "#index_filter = predata.index[filter].tolist()\n",
    "#pre1 = predata[:index_filter[1]].reset_index(drop=True)\n",
    "#pre2 = predata[index_filter[1]:index_filter[2]].reset_index(drop=True)\n",
    "#pre3 = predata[index_filter[2]:index_filter[3]].reset_index(drop=True)\n",
    "#pre4 = predata[index_filter[3]:].reset_index(drop=True)\n",
    "#df['amino'] = df['amino'].str.cat([pre1['amino'], pre2['amino'], pre3['amino'], pre4['amino']], sep='', na_rep='')\n",
    "#df = pd.DataFrame(columns=['prot', 'amino']) \n",
    "#df['prot'] = predata['prot'][0:7893]\n",
    "#df['amino'] = df['amino'].str.cat([pre1['amino'], pre2['amino'], pre3['amino'], pre4['amino']], sep='', na_rep='')"
   ]
  },
  {
   "cell_type": "markdown",
   "metadata": {},
   "source": [
    "<h2>HW1</h2>\n",
    "input: Any specific field of HLA-A</p>\n",
    "output: sequence of the input specific field</p>\n",
    "P.S.</p>\n",
    "1.reference : A*01:01:01:01</p>\n",
    "2.檔案裡序列分成四段 -30~342 記得合併起來</p>\n",
    "3.*代表變成 .</p>\n",
    "4.reference 中的 . 輸出時直接跳過</p>\n",
    "5.輸出時不要有空格</p>"
   ]
  },
  {
   "cell_type": "code",
   "execution_count": 113,
   "metadata": {},
   "outputs": [],
   "source": [
    "def Practice1(field):\n",
    "    str0 = []\n",
    "    ref = df['amino'][0] #P.S.1 reference : A*01:01:01:01\n",
    "    \n",
    "    filter = (df['prot'] == field) #P.S.2 dataframe df is already concatenate\n",
    "    index_field = df.index[filter].tolist() #find out index of input field\n",
    "    spec = df['amino'][(index_field[0])] #'amino' string of input field\n",
    "    sub = re.compile('\\*|[A-Z]') #generate regex pattern of '*' or uppercase letters\n",
    "\n",
    "    index_t = [substr.start() for substr in re.finditer(sub, spec)]#locate every variance position of the string of input field\n",
    "    #replace every variance position of reference with the string of input field\n",
    "    str0 = ref[:len(spec)]\n",
    "    for i in index_t:\n",
    "        str0 = str0[:i] + spec[i] + str0[i+1:]\n",
    "    \n",
    "    str0 = str0.replace('.','') #P.S.4,5 remove . in strings\n",
    "    str0 = str0.replace('*','.') #P.S.3 replace * with .\n",
    "\n",
    "    return str0"
   ]
  },
  {
   "cell_type": "markdown",
   "metadata": {},
   "source": [
    "Input & Output"
   ]
  },
  {
   "cell_type": "code",
   "execution_count": 114,
   "metadata": {},
   "outputs": [
    {
     "name": "stdout",
     "output_type": "stream",
     "text": [
      "MAIMAPRTLVLLLSGALALTQTWAGSHSMRYFYTSVSRPGRGEPRFIAVGYVDDTQFVRFDSDAASQRMEPRAPWIEQEGPEYWDGETRKVKAHSQTHRVDLGTLRGYYNQSEAGSHTVQRMYGCDVGSDWRFLRGYHQYAYDGKDYIALKEDLRSWTAADMAAQTTKHKWEAAHVAEQLRAYLEGTCVEWLRRYLENGKETLQRTDAPKTHMTHHAVSDHEATLRCWALSFYPAEITLTWQRDGEDQTQDTELVETRPAGDGTFQKWAAVVVPSGQEQRYTCHVQHEGLPKPLTLRWEPSSQPTIPIVGIIAGLVLFGAVITGAVVAAVMWRRKSSDRKGGSYSQAASSDSAQGSDVSLTACKV\n"
     ]
    }
   ],
   "source": [
    "spec_field = input('field:')\n",
    "print(Practice1(spec_field))"
   ]
  },
  {
   "cell_type": "markdown",
   "metadata": {},
   "source": [
    "<h2>HW2</h2>\n",
    "output: 列出 A01 中每一項的 determined variants (e.g. A01:02:01:01, A*01:03:01:01...)</p>\n",
    "P.S.用txt檔輸出"
   ]
  },
  {
   "cell_type": "code",
   "execution_count": 115,
   "metadata": {},
   "outputs": [],
   "source": [
    "def Practice2(field):    \n",
    "    filter = (df['prot'] == field)\n",
    "    index_field = df.index[filter].tolist() #find out index of input field\n",
    "    spec = df['amino'][(index_field[0])] #'amino' string of input field\n",
    "    sub = re.compile('\\*|[A-Z]') #generate regex pattern of '*' or uppercase letters\n",
    "\n",
    "    index_t = [substr.start() for substr in re.finditer(sub, spec)] #locate every variance position of the string of input field\n",
    "\n",
    "    ts = '' #create a string record every position and letter of determined variants\n",
    "    for i in index_t:\n",
    "        position = i - 25\n",
    "        protein = spec[i]\n",
    "        if position >= 1:\n",
    "            ts = f'{ts}, {position}:{protein}'\n",
    "        else:\n",
    "            ts = f'{ts}, {position-1}:{protein}'\n",
    "\n",
    "    ts = ts.strip(', ')\n",
    "    return ts"
   ]
  },
  {
   "cell_type": "code",
   "execution_count": 140,
   "metadata": {},
   "outputs": [
    {
     "data": {
      "text/plain": [
       "'9:S, 17:S'"
      ]
     },
     "execution_count": 140,
     "metadata": {},
     "output_type": "execute_result"
    }
   ],
   "source": [
    "Practice2('A*01:02:01:01')"
   ]
  },
  {
   "cell_type": "markdown",
   "metadata": {},
   "source": [
    "Build Dataframe"
   ]
  },
  {
   "cell_type": "code",
   "execution_count": 141,
   "metadata": {},
   "outputs": [
    {
     "data": {
      "text/html": [
       "<div>\n",
       "<style scoped>\n",
       "    .dataframe tbody tr th:only-of-type {\n",
       "        vertical-align: middle;\n",
       "    }\n",
       "\n",
       "    .dataframe tbody tr th {\n",
       "        vertical-align: top;\n",
       "    }\n",
       "\n",
       "    .dataframe thead th {\n",
       "        text-align: right;\n",
       "    }\n",
       "</style>\n",
       "<table border=\"1\" class=\"dataframe\">\n",
       "  <thead>\n",
       "    <tr style=\"text-align: right;\">\n",
       "      <th></th>\n",
       "      <th>prot</th>\n",
       "      <th>code</th>\n",
       "    </tr>\n",
       "  </thead>\n",
       "  <tbody>\n",
       "    <tr>\n",
       "      <th>0</th>\n",
       "      <td>A*01:01:01:01</td>\n",
       "      <td></td>\n",
       "    </tr>\n",
       "    <tr>\n",
       "      <th>1</th>\n",
       "      <td>A*01:01:01:02N</td>\n",
       "      <td>92:D, 93:P, 94:G, 95:P, 96:G, 97:R, 98:R, 99:S...</td>\n",
       "    </tr>\n",
       "    <tr>\n",
       "      <th>2</th>\n",
       "      <td>A*01:01:01:03</td>\n",
       "      <td></td>\n",
       "    </tr>\n",
       "    <tr>\n",
       "      <th>3</th>\n",
       "      <td>A*01:01:01:04</td>\n",
       "      <td></td>\n",
       "    </tr>\n",
       "    <tr>\n",
       "      <th>4</th>\n",
       "      <td>A*01:01:01:05</td>\n",
       "      <td></td>\n",
       "    </tr>\n",
       "    <tr>\n",
       "      <th>...</th>\n",
       "      <td>...</td>\n",
       "      <td>...</td>\n",
       "    </tr>\n",
       "    <tr>\n",
       "      <th>710</th>\n",
       "      <td>A*01:431</td>\n",
       "      <td>17:P</td>\n",
       "    </tr>\n",
       "    <tr>\n",
       "      <th>711</th>\n",
       "      <td>A*01:432</td>\n",
       "      <td>99:C</td>\n",
       "    </tr>\n",
       "    <tr>\n",
       "      <th>712</th>\n",
       "      <td>A*01:433N</td>\n",
       "      <td>277:X</td>\n",
       "    </tr>\n",
       "    <tr>\n",
       "      <th>713</th>\n",
       "      <td>A*01:434</td>\n",
       "      <td>108:P</td>\n",
       "    </tr>\n",
       "    <tr>\n",
       "      <th>714</th>\n",
       "      <td>A*01:435</td>\n",
       "      <td>140:R</td>\n",
       "    </tr>\n",
       "  </tbody>\n",
       "</table>\n",
       "<p>715 rows × 2 columns</p>\n",
       "</div>"
      ],
      "text/plain": [
       "               prot                                               code\n",
       "0     A*01:01:01:01                                                   \n",
       "1    A*01:01:01:02N  92:D, 93:P, 94:G, 95:P, 96:G, 97:R, 98:R, 99:S...\n",
       "2     A*01:01:01:03                                                   \n",
       "3     A*01:01:01:04                                                   \n",
       "4     A*01:01:01:05                                                   \n",
       "..              ...                                                ...\n",
       "710        A*01:431                                               17:P\n",
       "711        A*01:432                                               99:C\n",
       "712       A*01:433N                                              277:X\n",
       "713        A*01:434                                              108:P\n",
       "714        A*01:435                                              140:R\n",
       "\n",
       "[715 rows x 2 columns]"
      ]
     },
     "execution_count": 141,
     "metadata": {},
     "output_type": "execute_result"
    }
   ],
   "source": [
    "df2 = pd.DataFrame(columns=['prot', 'code'])\n",
    "df2['prot'] = [c for c in df['prot'] if c.startswith('A*01')] #strings in 'prot' which start with A*01\n",
    "df2['code'] = [Practice2(c) for c in df2['prot']]             #fill 'code' column by function HW2\n",
    "df2['code'][0] = ''\n",
    "df2"
   ]
  },
  {
   "cell_type": "markdown",
   "metadata": {},
   "source": [
    "Output"
   ]
  },
  {
   "cell_type": "code",
   "execution_count": 142,
   "metadata": {},
   "outputs": [],
   "source": [
    "df2.to_csv('Group_HW2.txt',sep='\\t',index=False)"
   ]
  }
 ],
 "metadata": {
  "kernelspec": {
   "display_name": "myenv",
   "language": "python",
   "name": "python3"
  },
  "language_info": {
   "codemirror_mode": {
    "name": "ipython",
    "version": 3
   },
   "file_extension": ".py",
   "mimetype": "text/x-python",
   "name": "python",
   "nbconvert_exporter": "python",
   "pygments_lexer": "ipython3",
   "version": "3.11.3"
  },
  "orig_nbformat": 4
 },
 "nbformat": 4,
 "nbformat_minor": 2
}
