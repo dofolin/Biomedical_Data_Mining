{
 "cells": [
  {
   "cell_type": "markdown",
   "metadata": {},
   "source": [
    "Import Package"
   ]
  },
  {
   "cell_type": "code",
   "execution_count": 23,
   "metadata": {},
   "outputs": [],
   "source": [
    "import io\n",
    "import re\n",
    "import os\n",
    "import numpy as np\n",
    "import pandas as pd"
   ]
  },
  {
   "cell_type": "markdown",
   "metadata": {},
   "source": [
    "Load Data"
   ]
  },
  {
   "cell_type": "code",
   "execution_count": 24,
   "metadata": {},
   "outputs": [
    {
     "data": {
      "text/html": [
       "<div>\n",
       "<style scoped>\n",
       "    .dataframe tbody tr th:only-of-type {\n",
       "        vertical-align: middle;\n",
       "    }\n",
       "\n",
       "    .dataframe tbody tr th {\n",
       "        vertical-align: top;\n",
       "    }\n",
       "\n",
       "    .dataframe thead th {\n",
       "        text-align: right;\n",
       "    }\n",
       "</style>\n",
       "<table border=\"1\" class=\"dataframe\">\n",
       "  <thead>\n",
       "    <tr style=\"text-align: right;\">\n",
       "      <th></th>\n",
       "      <th>prot</th>\n",
       "      <th>code</th>\n",
       "    </tr>\n",
       "  </thead>\n",
       "  <tbody>\n",
       "    <tr>\n",
       "      <th>0</th>\n",
       "      <td>A*01:01:01:01</td>\n",
       "      <td>MAVMAPRTLLLLLSGALAL..TQTWAGSHSMRYFFTSVSRPGRGEP...</td>\n",
       "    </tr>\n",
       "    <tr>\n",
       "      <th>1</th>\n",
       "      <td>A*01:01:01:02N</td>\n",
       "      <td>-------------------..-------------------------...</td>\n",
       "    </tr>\n",
       "    <tr>\n",
       "      <th>2</th>\n",
       "      <td>A*01:01:01:03</td>\n",
       "      <td>-------------------..-------------------------...</td>\n",
       "    </tr>\n",
       "    <tr>\n",
       "      <th>3</th>\n",
       "      <td>A*01:01:01:04</td>\n",
       "      <td>-------------------..-------------------------...</td>\n",
       "    </tr>\n",
       "    <tr>\n",
       "      <th>4</th>\n",
       "      <td>A*01:01:01:05</td>\n",
       "      <td>-------------------..-------------------------...</td>\n",
       "    </tr>\n",
       "    <tr>\n",
       "      <th>...</th>\n",
       "      <td>...</td>\n",
       "      <td>...</td>\n",
       "    </tr>\n",
       "    <tr>\n",
       "      <th>31568</th>\n",
       "      <td>A*80:06</td>\n",
       "      <td>----K-K------------E-------P------------------...</td>\n",
       "    </tr>\n",
       "    <tr>\n",
       "      <th>31569</th>\n",
       "      <td>A*80:07</td>\n",
       "      <td>----K-K------------E-------P------------------...</td>\n",
       "    </tr>\n",
       "    <tr>\n",
       "      <th>31570</th>\n",
       "      <td>A*80:08N</td>\n",
       "      <td></td>\n",
       "    </tr>\n",
       "    <tr>\n",
       "      <th>31571</th>\n",
       "      <td>A*80:09N</td>\n",
       "      <td></td>\n",
       "    </tr>\n",
       "    <tr>\n",
       "      <th>31572</th>\n",
       "      <td>A*03:437Q</td>\n",
       "      <td>LDSCLVWDX</td>\n",
       "    </tr>\n",
       "  </tbody>\n",
       "</table>\n",
       "<p>31573 rows × 2 columns</p>\n",
       "</div>"
      ],
      "text/plain": [
       "                 prot                                               code\n",
       "0       A*01:01:01:01  MAVMAPRTLLLLLSGALAL..TQTWAGSHSMRYFFTSVSRPGRGEP...\n",
       "1      A*01:01:01:02N  -------------------..-------------------------...\n",
       "2       A*01:01:01:03  -------------------..-------------------------...\n",
       "3       A*01:01:01:04  -------------------..-------------------------...\n",
       "4       A*01:01:01:05  -------------------..-------------------------...\n",
       "...               ...                                                ...\n",
       "31568         A*80:06  ----K-K------------E-------P------------------...\n",
       "31569         A*80:07  ----K-K------------E-------P------------------...\n",
       "31570        A*80:08N                                                   \n",
       "31571        A*80:09N                                                   \n",
       "31572       A*03:437Q                                          LDSCLVWDX\n",
       "\n",
       "[31573 rows x 2 columns]"
      ]
     },
     "execution_count": 24,
     "metadata": {},
     "output_type": "execute_result"
    }
   ],
   "source": [
    "with open('A_prot.txt', 'r') as txt:\n",
    "    lines = [l for l in txt if l.startswith(' A')]\n",
    "pre0 = pd.read_csv(io.StringIO(''.join(lines)), names=['0','1','2','3','4','5','6','7','8','9','10'], sep='\\s+')\n",
    "pre0.fillna('', inplace=True)\n",
    "\n",
    "pre = pd.DataFrame(columns=['prot', 'code']) \n",
    "pre['prot'] = pre0['0']\n",
    "pre['code'] = pre0['1'] + pre0['2'] + pre0['3'] + pre0['4'] + pre0['5'] + pre0['6'] + pre0['7'] + pre0['8'] + pre0['9'] + pre0['10']\n",
    "pre"
   ]
  },
  {
   "cell_type": "markdown",
   "metadata": {},
   "source": [
    "Filter"
   ]
  },
  {
   "cell_type": "code",
   "execution_count": 25,
   "metadata": {},
   "outputs": [
    {
     "data": {
      "text/html": [
       "<div>\n",
       "<style scoped>\n",
       "    .dataframe tbody tr th:only-of-type {\n",
       "        vertical-align: middle;\n",
       "    }\n",
       "\n",
       "    .dataframe tbody tr th {\n",
       "        vertical-align: top;\n",
       "    }\n",
       "\n",
       "    .dataframe thead th {\n",
       "        text-align: right;\n",
       "    }\n",
       "</style>\n",
       "<table border=\"1\" class=\"dataframe\">\n",
       "  <thead>\n",
       "    <tr style=\"text-align: right;\">\n",
       "      <th></th>\n",
       "      <th>0</th>\n",
       "      <th>1</th>\n",
       "      <th>2</th>\n",
       "      <th>3</th>\n",
       "      <th>4</th>\n",
       "      <th>5</th>\n",
       "      <th>6</th>\n",
       "      <th>7</th>\n",
       "      <th>8</th>\n",
       "      <th>9</th>\n",
       "      <th>10</th>\n",
       "    </tr>\n",
       "  </thead>\n",
       "  <tbody>\n",
       "    <tr>\n",
       "      <th>0</th>\n",
       "      <td>A*01:01:01:01</td>\n",
       "      <td>MAVM</td>\n",
       "      <td>APRTLLLLLS</td>\n",
       "      <td>GALAL..TQT</td>\n",
       "      <td>WAGSHSMRYF</td>\n",
       "      <td>FTSVSRPGRG</td>\n",
       "      <td>EPRFIAVGYV</td>\n",
       "      <td>DDTQFVRFDS</td>\n",
       "      <td>DAASQKMEPR</td>\n",
       "      <td>APWIEQEGPE</td>\n",
       "      <td>YWDQETRNMK</td>\n",
       "    </tr>\n",
       "    <tr>\n",
       "      <th>7893</th>\n",
       "      <td>A*01:01:01:01</td>\n",
       "      <td>AHSQTDRANL</td>\n",
       "      <td>GTLRGYYNQS</td>\n",
       "      <td>EDGSHTIQIM</td>\n",
       "      <td>YGCDVGPDGR</td>\n",
       "      <td>FLRGY.RQDA</td>\n",
       "      <td>YDGKDY.IAL</td>\n",
       "      <td>NEDLRSWTAA</td>\n",
       "      <td>DMAAQITKRK</td>\n",
       "      <td>WEAVHAAE..</td>\n",
       "      <td>..........</td>\n",
       "    </tr>\n",
       "    <tr>\n",
       "      <th>15786</th>\n",
       "      <td>A*01:01:01:01</td>\n",
       "      <td>..QRRVYLEG</td>\n",
       "      <td>RCVDGLRRYL</td>\n",
       "      <td>EN...GKETL</td>\n",
       "      <td>QRTDPPKTHM</td>\n",
       "      <td>THHPISDHEA</td>\n",
       "      <td>TLRCWALGFY</td>\n",
       "      <td>PAEITLTWQR</td>\n",
       "      <td>DGED.QTQDT</td>\n",
       "      <td>ELVETRPAGD</td>\n",
       "      <td>GTFQKWAAVV</td>\n",
       "    </tr>\n",
       "    <tr>\n",
       "      <th>23679</th>\n",
       "      <td>A*01:01:01:01</td>\n",
       "      <td>VPSGEEQRYT</td>\n",
       "      <td>CHVQHEGLPK</td>\n",
       "      <td>PLTLRWELSS</td>\n",
       "      <td>QPTIPIVGII</td>\n",
       "      <td>AGLVLLGAVI</td>\n",
       "      <td>TGAVVAAVMW</td>\n",
       "      <td>RRKSSDRKGG</td>\n",
       "      <td>SYTQAASSDS</td>\n",
       "      <td>AQGSDVSLTA</td>\n",
       "      <td>CKV</td>\n",
       "    </tr>\n",
       "  </tbody>\n",
       "</table>\n",
       "</div>"
      ],
      "text/plain": [
       "                   0           1           2           3           4  \\\n",
       "0      A*01:01:01:01        MAVM  APRTLLLLLS  GALAL..TQT  WAGSHSMRYF   \n",
       "7893   A*01:01:01:01  AHSQTDRANL  GTLRGYYNQS  EDGSHTIQIM  YGCDVGPDGR   \n",
       "15786  A*01:01:01:01  ..QRRVYLEG  RCVDGLRRYL  EN...GKETL  QRTDPPKTHM   \n",
       "23679  A*01:01:01:01  VPSGEEQRYT  CHVQHEGLPK  PLTLRWELSS  QPTIPIVGII   \n",
       "\n",
       "                5           6           7           8           9          10  \n",
       "0      FTSVSRPGRG  EPRFIAVGYV  DDTQFVRFDS  DAASQKMEPR  APWIEQEGPE  YWDQETRNMK  \n",
       "7893   FLRGY.RQDA  YDGKDY.IAL  NEDLRSWTAA  DMAAQITKRK  WEAVHAAE..  ..........  \n",
       "15786  THHPISDHEA  TLRCWALGFY  PAEITLTWQR  DGED.QTQDT  ELVETRPAGD  GTFQKWAAVV  \n",
       "23679  AGLVLLGAVI  TGAVVAAVMW  RRKSSDRKGG  SYTQAASSDS  AQGSDVSLTA         CKV  "
      ]
     },
     "execution_count": 25,
     "metadata": {},
     "output_type": "execute_result"
    }
   ],
   "source": [
    "filter = (pre0['0'] == 'A*01:01:01:01')\n",
    "pre0[filter]"
   ]
  },
  {
   "cell_type": "markdown",
   "metadata": {},
   "source": [
    "Slice & Merge"
   ]
  },
  {
   "cell_type": "code",
   "execution_count": 26,
   "metadata": {},
   "outputs": [
    {
     "data": {
      "text/plain": [
       "'MAVMAPRTLLLLLSGALAL..TQTWAGSHSMRYFFTSVSRPGRGEPRFIAVGYVDDTQFVRFDSDAASQKMEPRAPWIEQEGPEYWDQETRNMKAHSQTDRANLGTLRGYYNQSEDGSHTIQIMYGCDVGPDGRFLRGY.RQDAYDGKDY.IALNEDLRSWTAADMAAQITKRKWEAVHAAE..............QRRVYLEGRCVDGLRRYLEN...GKETLQRTDPPKTHMTHHPISDHEATLRCWALGFYPAEITLTWQRDGED.QTQDTELVETRPAGDGTFQKWAAVVVPSGEEQRYTCHVQHEGLPKPLTLRWELSSQPTIPIVGIIAGLVLLGAVITGAVVAAVMWRRKSSDRKGGSYTQAASSDSAQGSDVSLTACKV'"
      ]
     },
     "execution_count": 26,
     "metadata": {},
     "output_type": "execute_result"
    }
   ],
   "source": [
    "pre1 = pre['code'][0:7893].reset_index()\n",
    "pre2 = pre['code'][7893:15786].reset_index()\n",
    "pre3 = pre['code'][15786:23679].reset_index()\n",
    "pre4 = pre['code'][23679:31572].reset_index()\n",
    "\n",
    "df = pd.DataFrame(columns=['prot', 'code']) \n",
    "df['prot'] = pre['prot'][0:7893]\n",
    "df['code'] = df['code'].str.cat([pre1['code'], pre2['code'], pre3['code'], pre4['code']], sep='', na_rep='')\n",
    "df['code'][0]"
   ]
  },
  {
   "cell_type": "markdown",
   "metadata": {},
   "source": [
    "HW1"
   ]
  },
  {
   "cell_type": "code",
   "execution_count": 5,
   "metadata": {},
   "outputs": [],
   "source": [
    "def HW1(field):\n",
    "    str0 = []\n",
    "    ref = df['code'][0]\n",
    "    \n",
    "    filt = (df['prot'] == field)\n",
    "    index_field = df.index[filt].tolist()\n",
    "    spec = df['code'][(index_field[0])]\n",
    "    sub = re.compile('\\*|[A-Z]')\n",
    "\n",
    "    index_t = [substr.start() for substr in re.finditer(sub, spec)]\n",
    "    \n",
    "    str0 = ref[:len(spec)]\n",
    "    for i in index_t:\n",
    "        str0 = str0[:i] + spec[i] + str0[i+1:]\n",
    "    \n",
    "    str0 = str0.replace('.','')\n",
    "    str0 = str0.replace('*','.')\n",
    "\n",
    "\n",
    "    return str0"
   ]
  },
  {
   "cell_type": "markdown",
   "metadata": {},
   "source": [
    "Input & Output"
   ]
  },
  {
   "cell_type": "code",
   "execution_count": 6,
   "metadata": {},
   "outputs": [
    {
     "name": "stdout",
     "output_type": "stream",
     "text": [
      ".........................SHSMRYFFTSVSRPGRGEPRFIAVGYVDDTQFVRFDSDAASQKMEPRAPWIEQERPEYWDQETRNVKAHSQTDRENLGTLRGYYNQSEAGSHTIQIMYGCDVGPDGRFLRGYRQDAYDGKDYIALNEDLRSWTAADMAAQITKRKWEAVHAAEQRRVYLEGRCVDGLRRYLENGKETLQRT...............................................................................................................................................................\n"
     ]
    }
   ],
   "source": [
    "spec_field = input('field:')\n",
    "print(HW1(spec_field))"
   ]
  },
  {
   "cell_type": "markdown",
   "metadata": {},
   "source": [
    "HW2"
   ]
  },
  {
   "cell_type": "code",
   "execution_count": 39,
   "metadata": {},
   "outputs": [],
   "source": [
    "def HW2(field):    \n",
    "    filt = (df['prot'] == field)\n",
    "    index_field = df.index[filt].tolist()\n",
    "    spec = df['code'][(index_field[0])]\n",
    "    sub = re.compile('\\*|[A-Z]')\n",
    "\n",
    "    index_t = [substr.start() for substr in re.finditer(sub, spec)]\n",
    "\n",
    "    ts = ''\n",
    "    for i in index_t:\n",
    "        position = i - 25\n",
    "        protein = spec[i]\n",
    "        \n",
    "        ts = f'{ts}, {position}:{protein}'\n",
    "    ts = ts.strip(', ')\n",
    "    return ts"
   ]
  },
  {
   "cell_type": "code",
   "execution_count": 40,
   "metadata": {},
   "outputs": [
    {
     "data": {
      "text/plain": [
       "'9:S, 17:S'"
      ]
     },
     "execution_count": 40,
     "metadata": {},
     "output_type": "execute_result"
    }
   ],
   "source": [
    "HW2('A*01:02:01:01')"
   ]
  },
  {
   "cell_type": "markdown",
   "metadata": {},
   "source": [
    "Build Dataframe"
   ]
  },
  {
   "cell_type": "code",
   "execution_count": 48,
   "metadata": {},
   "outputs": [
    {
     "data": {
      "text/html": [
       "<div>\n",
       "<style scoped>\n",
       "    .dataframe tbody tr th:only-of-type {\n",
       "        vertical-align: middle;\n",
       "    }\n",
       "\n",
       "    .dataframe tbody tr th {\n",
       "        vertical-align: top;\n",
       "    }\n",
       "\n",
       "    .dataframe thead th {\n",
       "        text-align: right;\n",
       "    }\n",
       "</style>\n",
       "<table border=\"1\" class=\"dataframe\">\n",
       "  <thead>\n",
       "    <tr style=\"text-align: right;\">\n",
       "      <th></th>\n",
       "      <th>prot</th>\n",
       "      <th>code</th>\n",
       "    </tr>\n",
       "  </thead>\n",
       "  <tbody>\n",
       "    <tr>\n",
       "      <th>0</th>\n",
       "      <td>A*01:01:01:01</td>\n",
       "      <td></td>\n",
       "    </tr>\n",
       "    <tr>\n",
       "      <th>1</th>\n",
       "      <td>A*01:01:01:02N</td>\n",
       "      <td>92:D, 93:P, 94:G, 95:P, 96:G, 97:R, 98:R, 99:S...</td>\n",
       "    </tr>\n",
       "    <tr>\n",
       "      <th>2</th>\n",
       "      <td>A*01:01:01:03</td>\n",
       "      <td></td>\n",
       "    </tr>\n",
       "    <tr>\n",
       "      <th>3</th>\n",
       "      <td>A*01:01:01:04</td>\n",
       "      <td></td>\n",
       "    </tr>\n",
       "    <tr>\n",
       "      <th>4</th>\n",
       "      <td>A*01:01:01:05</td>\n",
       "      <td></td>\n",
       "    </tr>\n",
       "    <tr>\n",
       "      <th>...</th>\n",
       "      <td>...</td>\n",
       "      <td>...</td>\n",
       "    </tr>\n",
       "    <tr>\n",
       "      <th>710</th>\n",
       "      <td>A*01:431</td>\n",
       "      <td>17:P</td>\n",
       "    </tr>\n",
       "    <tr>\n",
       "      <th>711</th>\n",
       "      <td>A*01:432</td>\n",
       "      <td>99:C</td>\n",
       "    </tr>\n",
       "    <tr>\n",
       "      <th>712</th>\n",
       "      <td>A*01:433N</td>\n",
       "      <td>277:X</td>\n",
       "    </tr>\n",
       "    <tr>\n",
       "      <th>713</th>\n",
       "      <td>A*01:434</td>\n",
       "      <td>108:P</td>\n",
       "    </tr>\n",
       "    <tr>\n",
       "      <th>714</th>\n",
       "      <td>A*01:435</td>\n",
       "      <td>140:R</td>\n",
       "    </tr>\n",
       "  </tbody>\n",
       "</table>\n",
       "<p>715 rows × 2 columns</p>\n",
       "</div>"
      ],
      "text/plain": [
       "               prot                                               code\n",
       "0     A*01:01:01:01                                                   \n",
       "1    A*01:01:01:02N  92:D, 93:P, 94:G, 95:P, 96:G, 97:R, 98:R, 99:S...\n",
       "2     A*01:01:01:03                                                   \n",
       "3     A*01:01:01:04                                                   \n",
       "4     A*01:01:01:05                                                   \n",
       "..              ...                                                ...\n",
       "710        A*01:431                                               17:P\n",
       "711        A*01:432                                               99:C\n",
       "712       A*01:433N                                              277:X\n",
       "713        A*01:434                                              108:P\n",
       "714        A*01:435                                              140:R\n",
       "\n",
       "[715 rows x 2 columns]"
      ]
     },
     "execution_count": 48,
     "metadata": {},
     "output_type": "execute_result"
    }
   ],
   "source": [
    "df2 = pd.DataFrame(columns=['prot', 'code'])\n",
    "df2['prot'] = [c for c in df['prot'] if c.startswith('A*01')]\n",
    "df2['code'] = [HW2(c) for c in df2['prot']]\n",
    "df2['code'][0] = ''\n",
    "\n",
    "df2"
   ]
  },
  {
   "cell_type": "markdown",
   "metadata": {},
   "source": [
    "Output"
   ]
  },
  {
   "cell_type": "code",
   "execution_count": 49,
   "metadata": {},
   "outputs": [],
   "source": [
    "df2.to_csv('Group_HW2.txt',sep='\\t',index=False)"
   ]
  }
 ],
 "metadata": {
  "kernelspec": {
   "display_name": "myenv",
   "language": "python",
   "name": "python3"
  },
  "language_info": {
   "codemirror_mode": {
    "name": "ipython",
    "version": 3
   },
   "file_extension": ".py",
   "mimetype": "text/x-python",
   "name": "python",
   "nbconvert_exporter": "python",
   "pygments_lexer": "ipython3",
   "version": "3.10.12"
  },
  "orig_nbformat": 4
 },
 "nbformat": 4,
 "nbformat_minor": 2
}
